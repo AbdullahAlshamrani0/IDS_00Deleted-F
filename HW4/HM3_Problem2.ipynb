{
 "cells": [
  {
   "cell_type": "markdown",
   "id": "damaged-distributor",
   "metadata": {},
   "source": [
    "# Q1 : read the nutrition dataset"
   ]
  },
  {
   "cell_type": "code",
   "execution_count": 9,
   "id": "continuing-number",
   "metadata": {},
   "outputs": [],
   "source": [
    "import pandas as pd\n",
    "df = pd.read_csv('C:/Users/MASROUR/pyproj/my_env/basedata/HW/HM3/nutrition_subset.txt', sep=\",\")"
   ]
  },
  {
   "cell_type": "code",
   "execution_count": 11,
   "id": "expected-maria",
   "metadata": {},
   "outputs": [
    {
     "data": {
      "text/html": [
       "<div>\n",
       "<style scoped>\n",
       "    .dataframe tbody tr th:only-of-type {\n",
       "        vertical-align: middle;\n",
       "    }\n",
       "\n",
       "    .dataframe tbody tr th {\n",
       "        vertical-align: top;\n",
       "    }\n",
       "\n",
       "    .dataframe thead th {\n",
       "        text-align: right;\n",
       "    }\n",
       "</style>\n",
       "<table border=\"1\" class=\"dataframe\">\n",
       "  <thead>\n",
       "    <tr style=\"text-align: right;\">\n",
       "      <th></th>\n",
       "      <th>food item</th>\n",
       "      <th>weight_in_grams</th>\n",
       "      <th>saturated_fat</th>\n",
       "      <th>cholesterol</th>\n",
       "    </tr>\n",
       "  </thead>\n",
       "  <tbody>\n",
       "    <tr>\n",
       "      <th>0</th>\n",
       "      <td>GELATIN; DRY                  1 ENVELP</td>\n",
       "      <td>7.00</td>\n",
       "      <td>0.0</td>\n",
       "      <td>0</td>\n",
       "    </tr>\n",
       "    <tr>\n",
       "      <th>1</th>\n",
       "      <td>SEAWEED; SPIRULINA; DRIED     1 OZ</td>\n",
       "      <td>28.35</td>\n",
       "      <td>0.8</td>\n",
       "      <td>0</td>\n",
       "    </tr>\n",
       "    <tr>\n",
       "      <th>2</th>\n",
       "      <td>YEAST; BAKERS; DRY; ACTIVE    1 PKG</td>\n",
       "      <td>7.00</td>\n",
       "      <td>0.0</td>\n",
       "      <td>0</td>\n",
       "    </tr>\n",
       "    <tr>\n",
       "      <th>3</th>\n",
       "      <td>PARMESAN CHEESE; GRATED       1 OZ</td>\n",
       "      <td>28.35</td>\n",
       "      <td>5.4</td>\n",
       "      <td>22</td>\n",
       "    </tr>\n",
       "    <tr>\n",
       "      <th>4</th>\n",
       "      <td>PARMESAN CHEESE; GRATED       1 CUP</td>\n",
       "      <td>100.00</td>\n",
       "      <td>19.1</td>\n",
       "      <td>79</td>\n",
       "    </tr>\n",
       "    <tr>\n",
       "      <th>5</th>\n",
       "      <td>PARMESAN CHEESE; GRATED       1 TBSP</td>\n",
       "      <td>5.00</td>\n",
       "      <td>1.0</td>\n",
       "      <td>4</td>\n",
       "    </tr>\n",
       "    <tr>\n",
       "      <th>6</th>\n",
       "      <td>YEAST; BREWERS; DRY           1 TBSP</td>\n",
       "      <td>8.00</td>\n",
       "      <td>0.0</td>\n",
       "      <td>0</td>\n",
       "    </tr>\n",
       "    <tr>\n",
       "      <th>7</th>\n",
       "      <td>LAMB;CHOPS;ARM;BRAISED;LEAN   1.7 OZ</td>\n",
       "      <td>48.00</td>\n",
       "      <td>2.9</td>\n",
       "      <td>59</td>\n",
       "    </tr>\n",
       "    <tr>\n",
       "      <th>8</th>\n",
       "      <td>TUNA; CANND; DRND;WATR; WHITE 3 OZ</td>\n",
       "      <td>85.00</td>\n",
       "      <td>0.3</td>\n",
       "      <td>48</td>\n",
       "    </tr>\n",
       "    <tr>\n",
       "      <th>9</th>\n",
       "      <td>NONFAT DRY MILK; INSTANTIZED  1 CUP</td>\n",
       "      <td>68.00</td>\n",
       "      <td>0.3</td>\n",
       "      <td>12</td>\n",
       "    </tr>\n",
       "  </tbody>\n",
       "</table>\n",
       "</div>"
      ],
      "text/plain": [
       "                                food item  weight_in_grams  saturated_fat  \\\n",
       "0  GELATIN; DRY                  1 ENVELP             7.00            0.0   \n",
       "1  SEAWEED; SPIRULINA; DRIED     1 OZ                28.35            0.8   \n",
       "2  YEAST; BAKERS; DRY; ACTIVE    1 PKG                7.00            0.0   \n",
       "3  PARMESAN CHEESE; GRATED       1 OZ                28.35            5.4   \n",
       "4  PARMESAN CHEESE; GRATED       1 CUP              100.00           19.1   \n",
       "5  PARMESAN CHEESE; GRATED       1 TBSP               5.00            1.0   \n",
       "6  YEAST; BREWERS; DRY           1 TBSP               8.00            0.0   \n",
       "7  LAMB;CHOPS;ARM;BRAISED;LEAN   1.7 OZ              48.00            2.9   \n",
       "8  TUNA; CANND; DRND;WATR; WHITE 3 OZ                85.00            0.3   \n",
       "9  NONFAT DRY MILK; INSTANTIZED  1 CUP               68.00            0.3   \n",
       "\n",
       "   cholesterol  \n",
       "0            0  \n",
       "1            0  \n",
       "2            0  \n",
       "3           22  \n",
       "4           79  \n",
       "5            4  \n",
       "6            0  \n",
       "7           59  \n",
       "8           48  \n",
       "9           12  "
      ]
     },
     "execution_count": 11,
     "metadata": {},
     "output_type": "execute_result"
    }
   ],
   "source": [
    "df.head(10)"
   ]
  },
  {
   "cell_type": "markdown",
   "id": "early-cleanup",
   "metadata": {},
   "source": [
    "# Q3 Sort the data set by saturated_ fat and produce a listing of the five food items highest in saturated fat. Comment on the validity of comparing fooditems of different sizes.\n"
   ]
  },
  {
   "cell_type": "code",
   "execution_count": 14,
   "id": "floral-effectiveness",
   "metadata": {},
   "outputs": [
    {
     "data": {
      "text/html": [
       "<div>\n",
       "<style scoped>\n",
       "    .dataframe tbody tr th:only-of-type {\n",
       "        vertical-align: middle;\n",
       "    }\n",
       "\n",
       "    .dataframe tbody tr th {\n",
       "        vertical-align: top;\n",
       "    }\n",
       "\n",
       "    .dataframe thead th {\n",
       "        text-align: right;\n",
       "    }\n",
       "</style>\n",
       "<table border=\"1\" class=\"dataframe\">\n",
       "  <thead>\n",
       "    <tr style=\"text-align: right;\">\n",
       "      <th></th>\n",
       "      <th>food item</th>\n",
       "      <th>weight_in_grams</th>\n",
       "      <th>saturated_fat</th>\n",
       "      <th>cholesterol</th>\n",
       "    </tr>\n",
       "  </thead>\n",
       "  <tbody>\n",
       "    <tr>\n",
       "      <th>378</th>\n",
       "      <td>CHEESECAKE                    1 CAKE</td>\n",
       "      <td>1110.0</td>\n",
       "      <td>119.9</td>\n",
       "      <td>2053</td>\n",
       "    </tr>\n",
       "    <tr>\n",
       "      <th>535</th>\n",
       "      <td>ICE CREAM; VANLLA; RICH 16% FT1/2 GAL</td>\n",
       "      <td>1188.0</td>\n",
       "      <td>118.3</td>\n",
       "      <td>703</td>\n",
       "    </tr>\n",
       "    <tr>\n",
       "      <th>458</th>\n",
       "      <td>YELLOWCAKE W/ CHOCFRSTNG;COMML1 CAKE</td>\n",
       "      <td>1108.0</td>\n",
       "      <td>92.0</td>\n",
       "      <td>609</td>\n",
       "    </tr>\n",
       "    <tr>\n",
       "      <th>581</th>\n",
       "      <td>CREME PIE                     1 PIE</td>\n",
       "      <td>910.0</td>\n",
       "      <td>90.1</td>\n",
       "      <td>46</td>\n",
       "    </tr>\n",
       "    <tr>\n",
       "      <th>890</th>\n",
       "      <td>LARD                          1 CUP</td>\n",
       "      <td>205.0</td>\n",
       "      <td>80.4</td>\n",
       "      <td>195</td>\n",
       "    </tr>\n",
       "  </tbody>\n",
       "</table>\n",
       "</div>"
      ],
      "text/plain": [
       "                                  food item  weight_in_grams  saturated_fat  \\\n",
       "378  CHEESECAKE                    1 CAKE             1110.0          119.9   \n",
       "535  ICE CREAM; VANLLA; RICH 16% FT1/2 GAL            1188.0          118.3   \n",
       "458  YELLOWCAKE W/ CHOCFRSTNG;COMML1 CAKE             1108.0           92.0   \n",
       "581  CREME PIE                     1 PIE               910.0           90.1   \n",
       "890  LARD                          1 CUP               205.0           80.4   \n",
       "\n",
       "     cholesterol  \n",
       "378         2053  \n",
       "535          703  \n",
       "458          609  \n",
       "581           46  \n",
       "890          195  "
      ]
     },
     "execution_count": 14,
     "metadata": {},
     "output_type": "execute_result"
    }
   ],
   "source": [
    "#sorting\n",
    "sort=df.sort_values(by=['saturated_fat'],ascending=False) # sort by saturated_fat\n",
    "sort.head(5) #display the five food items highest in saturated_fat\n",
    "# We can see that we have diffirent fooditems : 1CAKE- 1/2GAL- 1PIE... "
   ]
  },
  {
   "cell_type": "markdown",
   "id": "intended-cornell",
   "metadata": {},
   "source": [
    "# Q4. Create a new variable, saturated_ fat_ per_gram, by dividing the amount of saturated fat by the weight in grams. Sort the data set by saturated_ fat_ per_gram and produce a listing of the five food items highest in saturated fat per gram. Which food has the most saturated fat per gram?\n"
   ]
  },
  {
   "cell_type": "code",
   "execution_count": 16,
   "id": "finnish-transaction",
   "metadata": {},
   "outputs": [
    {
     "data": {
      "text/html": [
       "<div>\n",
       "<style scoped>\n",
       "    .dataframe tbody tr th:only-of-type {\n",
       "        vertical-align: middle;\n",
       "    }\n",
       "\n",
       "    .dataframe tbody tr th {\n",
       "        vertical-align: top;\n",
       "    }\n",
       "\n",
       "    .dataframe thead th {\n",
       "        text-align: right;\n",
       "    }\n",
       "</style>\n",
       "<table border=\"1\" class=\"dataframe\">\n",
       "  <thead>\n",
       "    <tr style=\"text-align: right;\">\n",
       "      <th></th>\n",
       "      <th>food item</th>\n",
       "      <th>weight_in_grams</th>\n",
       "      <th>saturated_fat</th>\n",
       "      <th>cholesterol</th>\n",
       "      <th>saturated_fat_per_gram</th>\n",
       "    </tr>\n",
       "  </thead>\n",
       "  <tbody>\n",
       "    <tr>\n",
       "      <th>0</th>\n",
       "      <td>GELATIN; DRY                  1 ENVELP</td>\n",
       "      <td>7.00</td>\n",
       "      <td>0.0</td>\n",
       "      <td>0</td>\n",
       "      <td>0.000000</td>\n",
       "    </tr>\n",
       "    <tr>\n",
       "      <th>1</th>\n",
       "      <td>SEAWEED; SPIRULINA; DRIED     1 OZ</td>\n",
       "      <td>28.35</td>\n",
       "      <td>0.8</td>\n",
       "      <td>0</td>\n",
       "      <td>0.028219</td>\n",
       "    </tr>\n",
       "    <tr>\n",
       "      <th>2</th>\n",
       "      <td>YEAST; BAKERS; DRY; ACTIVE    1 PKG</td>\n",
       "      <td>7.00</td>\n",
       "      <td>0.0</td>\n",
       "      <td>0</td>\n",
       "      <td>0.000000</td>\n",
       "    </tr>\n",
       "    <tr>\n",
       "      <th>3</th>\n",
       "      <td>PARMESAN CHEESE; GRATED       1 OZ</td>\n",
       "      <td>28.35</td>\n",
       "      <td>5.4</td>\n",
       "      <td>22</td>\n",
       "      <td>0.190476</td>\n",
       "    </tr>\n",
       "    <tr>\n",
       "      <th>4</th>\n",
       "      <td>PARMESAN CHEESE; GRATED       1 CUP</td>\n",
       "      <td>100.00</td>\n",
       "      <td>19.1</td>\n",
       "      <td>79</td>\n",
       "      <td>0.191000</td>\n",
       "    </tr>\n",
       "  </tbody>\n",
       "</table>\n",
       "</div>"
      ],
      "text/plain": [
       "                                food item  weight_in_grams  saturated_fat  \\\n",
       "0  GELATIN; DRY                  1 ENVELP             7.00            0.0   \n",
       "1  SEAWEED; SPIRULINA; DRIED     1 OZ                28.35            0.8   \n",
       "2  YEAST; BAKERS; DRY; ACTIVE    1 PKG                7.00            0.0   \n",
       "3  PARMESAN CHEESE; GRATED       1 OZ                28.35            5.4   \n",
       "4  PARMESAN CHEESE; GRATED       1 CUP              100.00           19.1   \n",
       "\n",
       "   cholesterol  saturated_fat_per_gram  \n",
       "0            0                0.000000  \n",
       "1            0                0.028219  \n",
       "2            0                0.000000  \n",
       "3           22                0.190476  \n",
       "4           79                0.191000  "
      ]
     },
     "execution_count": 16,
     "metadata": {},
     "output_type": "execute_result"
    }
   ],
   "source": [
    "#new variable, saturated_ fat_ per_gram, by dividing the amount of saturated fat by the weight in grams. \n",
    "df[\"saturated_fat_per_gram\"]=df[\"saturated_fat\"]/df[\"weight_in_grams\"]\n",
    "df.head()"
   ]
  },
  {
   "cell_type": "code",
   "execution_count": 17,
   "id": "phantom-orientation",
   "metadata": {},
   "outputs": [
    {
     "data": {
      "text/html": [
       "<div>\n",
       "<style scoped>\n",
       "    .dataframe tbody tr th:only-of-type {\n",
       "        vertical-align: middle;\n",
       "    }\n",
       "\n",
       "    .dataframe tbody tr th {\n",
       "        vertical-align: top;\n",
       "    }\n",
       "\n",
       "    .dataframe thead th {\n",
       "        text-align: right;\n",
       "    }\n",
       "</style>\n",
       "<table border=\"1\" class=\"dataframe\">\n",
       "  <thead>\n",
       "    <tr style=\"text-align: right;\">\n",
       "      <th></th>\n",
       "      <th>food item</th>\n",
       "      <th>weight_in_grams</th>\n",
       "      <th>saturated_fat</th>\n",
       "      <th>cholesterol</th>\n",
       "      <th>saturated_fat_per_gram</th>\n",
       "    </tr>\n",
       "  </thead>\n",
       "  <tbody>\n",
       "    <tr>\n",
       "      <th>908</th>\n",
       "      <td>BUTTER; SALTED                1 TBSP</td>\n",
       "      <td>14.0</td>\n",
       "      <td>7.1</td>\n",
       "      <td>31</td>\n",
       "      <td>0.507143</td>\n",
       "    </tr>\n",
       "    <tr>\n",
       "      <th>909</th>\n",
       "      <td>BUTTER; UNSALTED              1 TBSP</td>\n",
       "      <td>14.0</td>\n",
       "      <td>7.1</td>\n",
       "      <td>31</td>\n",
       "      <td>0.507143</td>\n",
       "    </tr>\n",
       "    <tr>\n",
       "      <th>710</th>\n",
       "      <td>BUTTER; UNSALTED              1/2 CUP</td>\n",
       "      <td>113.0</td>\n",
       "      <td>57.1</td>\n",
       "      <td>247</td>\n",
       "      <td>0.505310</td>\n",
       "    </tr>\n",
       "    <tr>\n",
       "      <th>709</th>\n",
       "      <td>BUTTER; SALTED                1/2 CUP</td>\n",
       "      <td>113.0</td>\n",
       "      <td>57.1</td>\n",
       "      <td>247</td>\n",
       "      <td>0.505310</td>\n",
       "    </tr>\n",
       "    <tr>\n",
       "      <th>913</th>\n",
       "      <td>BUTTER; UNSALTED              1 PAT</td>\n",
       "      <td>5.0</td>\n",
       "      <td>2.5</td>\n",
       "      <td>11</td>\n",
       "      <td>0.500000</td>\n",
       "    </tr>\n",
       "  </tbody>\n",
       "</table>\n",
       "</div>"
      ],
      "text/plain": [
       "                                  food item  weight_in_grams  saturated_fat  \\\n",
       "908  BUTTER; SALTED                1 TBSP               14.0            7.1   \n",
       "909  BUTTER; UNSALTED              1 TBSP               14.0            7.1   \n",
       "710  BUTTER; UNSALTED              1/2 CUP             113.0           57.1   \n",
       "709  BUTTER; SALTED                1/2 CUP             113.0           57.1   \n",
       "913  BUTTER; UNSALTED              1 PAT                 5.0            2.5   \n",
       "\n",
       "     cholesterol  saturated_fat_per_gram  \n",
       "908           31                0.507143  \n",
       "909           31                0.507143  \n",
       "710          247                0.505310  \n",
       "709          247                0.505310  \n",
       "913           11                0.500000  "
      ]
     },
     "execution_count": 17,
     "metadata": {},
     "output_type": "execute_result"
    }
   ],
   "source": [
    "#Sort the data set by saturated_ fat_ per_gram and produce a listing of the five food items highest in saturated fat per gram.\n",
    "sort=df.sort_values(by=['saturated_fat_per_gram'],ascending=False) # sort by saturated_fat_per_gram\n",
    "sort.head(5) #display the five food items highest in saturated_fat\n",
    "\n",
    "#the food who has the most saturated fat per gram is \"BUTTER; SALTED 1 TBSP\""
   ]
  },
  {
   "cell_type": "markdown",
   "id": "apparent-shelf",
   "metadata": {},
   "source": [
    "# Q5. Standardize (zero mean) the field saturated_ fat_ per_gram, and produce a listing of all the food items that are outliers at the high end of the scale. How many food items are outliers at the low end of the scale? Create a density plot for saturated_ fat_ per_gram\n"
   ]
  },
  {
   "cell_type": "code",
   "execution_count": 18,
   "id": "piano-martin",
   "metadata": {},
   "outputs": [
    {
     "name": "stdout",
     "output_type": "stream",
     "text": [
      "saturated_fat_per_gram standardized\n"
     ]
    },
    {
     "data": {
      "text/html": [
       "<div>\n",
       "<style scoped>\n",
       "    .dataframe tbody tr th:only-of-type {\n",
       "        vertical-align: middle;\n",
       "    }\n",
       "\n",
       "    .dataframe tbody tr th {\n",
       "        vertical-align: top;\n",
       "    }\n",
       "\n",
       "    .dataframe thead th {\n",
       "        text-align: right;\n",
       "    }\n",
       "</style>\n",
       "<table border=\"1\" class=\"dataframe\">\n",
       "  <thead>\n",
       "    <tr style=\"text-align: right;\">\n",
       "      <th></th>\n",
       "      <th>0</th>\n",
       "    </tr>\n",
       "  </thead>\n",
       "  <tbody>\n",
       "    <tr>\n",
       "      <th>0</th>\n",
       "      <td>-0.562335</td>\n",
       "    </tr>\n",
       "    <tr>\n",
       "      <th>1</th>\n",
       "      <td>-0.135401</td>\n",
       "    </tr>\n",
       "    <tr>\n",
       "      <th>2</th>\n",
       "      <td>-0.562335</td>\n",
       "    </tr>\n",
       "    <tr>\n",
       "      <th>3</th>\n",
       "      <td>2.319472</td>\n",
       "    </tr>\n",
       "    <tr>\n",
       "      <th>4</th>\n",
       "      <td>2.327397</td>\n",
       "    </tr>\n",
       "  </tbody>\n",
       "</table>\n",
       "</div>"
      ],
      "text/plain": [
       "          0\n",
       "0 -0.562335\n",
       "1 -0.135401\n",
       "2 -0.562335\n",
       "3  2.319472\n",
       "4  2.327397"
      ]
     },
     "execution_count": 18,
     "metadata": {},
     "output_type": "execute_result"
    }
   ],
   "source": [
    "#Standardize (zero mean) the field saturated_ fat_ per_gram\n",
    "from sklearn.preprocessing import StandardScaler\n",
    "df_sc=df[\"saturated_fat_per_gram\"]\n",
    "nrmlzd = StandardScaler() \n",
    "data_std =nrmlzd.fit_transform(df_sc.values.reshape(-1,1))\n",
    "data_std= pd.DataFrame(data_std)\n",
    "print(\"saturated_fat_per_gram standardized\")\n",
    "data_std.head()"
   ]
  },
  {
   "cell_type": "code",
   "execution_count": 19,
   "id": "level-heather",
   "metadata": {},
   "outputs": [],
   "source": [
    "import seaborn as sns\n",
    "%matplotlib inline\n",
    "import matplotlib.pyplot as plt"
   ]
  },
  {
   "cell_type": "code",
   "execution_count": 20,
   "id": "maritime-bradford",
   "metadata": {},
   "outputs": [
    {
     "data": {
      "image/png": "[encoded data removed]",
      "text/plain": [
       "<Figure size 432x288 with 1 Axes>"
      ]
     },
     "metadata": {
      "needs_background": "light"
     },
     "output_type": "display_data"
    }
   ],
   "source": [
    "#boxplot\n",
    "# There are a lot of outliers at the high end of the scale, and there is any outlier at the low end of the scale\n",
    "data_std.boxplot()\n",
    "plt.xlabel(\"saturated_fat_per_gram\")\n",
    "plt.show()"
   ]
  },
  {
   "cell_type": "code",
   "execution_count": 24,
   "id": "novel-flour",
   "metadata": {},
   "outputs": [
    {
     "data": {
      "image/png": "[encoded data removed]",
      "text/plain": [
       "<Figure size 432x288 with 1 Axes>"
      ]
     },
     "metadata": {
      "needs_background": "light"
     },
     "output_type": "display_data"
    }
   ],
   "source": [
    "#density plot for saturated_ fat_ per_gram\n",
    "sns.kdeplot(df[\"saturated_fat_per_gram\"],bw=0.25)\n",
    "plt.show()"
   ]
  },
  {
   "cell_type": "markdown",
   "id": "regular-strengthening",
   "metadata": {},
   "source": [
    "# Q6. Are there any missing values? If so, impute as necessary and explain your approach."
   ]
  },
  {
   "cell_type": "code",
   "execution_count": 12,
   "id": "further-plymouth",
   "metadata": {},
   "outputs": [
    {
     "name": "stdout",
     "output_type": "stream",
     "text": [
      "The number of missing values for each column\n"
     ]
    },
    {
     "data": {
      "text/plain": [
       "food item          0\n",
       "weight_in_grams    0\n",
       "saturated_fat      0\n",
       "cholesterol        0\n",
       "dtype: int64"
      ]
     },
     "execution_count": 12,
     "metadata": {},
     "output_type": "execute_result"
    }
   ],
   "source": [
    "##Number of NaN\n",
    "# We don't have any missing value\n",
    "print(\"The number of missing values for each column\")\n",
    "df.isnull().sum().sort_values(ascending=True)"
   ]
  },
  {
   "cell_type": "markdown",
   "id": "recent-change",
   "metadata": {},
   "source": [
    "# Q7. Standardize (zero mean) the numeric variables, and determine if there are any outliers."
   ]
  },
  {
   "cell_type": "code",
   "execution_count": 29,
   "id": "reported-microphone",
   "metadata": {},
   "outputs": [
    {
     "data": {
      "text/html": [
       "<div>\n",
       "<style scoped>\n",
       "    .dataframe tbody tr th:only-of-type {\n",
       "        vertical-align: middle;\n",
       "    }\n",
       "\n",
       "    .dataframe tbody tr th {\n",
       "        vertical-align: top;\n",
       "    }\n",
       "\n",
       "    .dataframe thead th {\n",
       "        text-align: right;\n",
       "    }\n",
       "</style>\n",
       "<table border=\"1\" class=\"dataframe\">\n",
       "  <thead>\n",
       "    <tr style=\"text-align: right;\">\n",
       "      <th></th>\n",
       "      <th>food item</th>\n",
       "      <th>weight_in_grams</th>\n",
       "      <th>saturated_fat</th>\n",
       "      <th>cholesterol</th>\n",
       "      <th>saturated_fat_per_gram</th>\n",
       "    </tr>\n",
       "  </thead>\n",
       "  <tbody>\n",
       "    <tr>\n",
       "      <th>0</th>\n",
       "      <td>GELATIN; DRY                  1 ENVELP</td>\n",
       "      <td>-0.809561</td>\n",
       "      <td>-0.371136</td>\n",
       "      <td>-0.271369</td>\n",
       "      <td>-0.562043</td>\n",
       "    </tr>\n",
       "    <tr>\n",
       "      <th>1</th>\n",
       "      <td>SEAWEED; SPIRULINA; DRIED     1 OZ</td>\n",
       "      <td>-0.688192</td>\n",
       "      <td>-0.296678</td>\n",
       "      <td>-0.271369</td>\n",
       "      <td>-0.135330</td>\n",
       "    </tr>\n",
       "    <tr>\n",
       "      <th>2</th>\n",
       "      <td>YEAST; BAKERS; DRY; ACTIVE    1 PKG</td>\n",
       "      <td>-0.809561</td>\n",
       "      <td>-0.371136</td>\n",
       "      <td>-0.271369</td>\n",
       "      <td>-0.562043</td>\n",
       "    </tr>\n",
       "    <tr>\n",
       "      <th>3</th>\n",
       "      <td>PARMESAN CHEESE; GRATED       1 OZ</td>\n",
       "      <td>-0.688192</td>\n",
       "      <td>0.131453</td>\n",
       "      <td>-0.087975</td>\n",
       "      <td>2.318264</td>\n",
       "    </tr>\n",
       "    <tr>\n",
       "      <th>4</th>\n",
       "      <td>PARMESAN CHEESE; GRATED       1 CUP</td>\n",
       "      <td>-0.280880</td>\n",
       "      <td>1.406541</td>\n",
       "      <td>0.387181</td>\n",
       "      <td>2.326185</td>\n",
       "    </tr>\n",
       "    <tr>\n",
       "      <th>...</th>\n",
       "      <td>...</td>\n",
       "      <td>...</td>\n",
       "      <td>...</td>\n",
       "      <td>...</td>\n",
       "      <td>...</td>\n",
       "    </tr>\n",
       "    <tr>\n",
       "      <th>956</th>\n",
       "      <td>COFFEE; BREWED                6 FL OZ</td>\n",
       "      <td>0.173900</td>\n",
       "      <td>-0.371136</td>\n",
       "      <td>-0.271369</td>\n",
       "      <td>-0.562043</td>\n",
       "    </tr>\n",
       "    <tr>\n",
       "      <th>957</th>\n",
       "      <td>TEA; BREWED                   8 FL OZ</td>\n",
       "      <td>0.514985</td>\n",
       "      <td>-0.371136</td>\n",
       "      <td>-0.271369</td>\n",
       "      <td>-0.562043</td>\n",
       "    </tr>\n",
       "    <tr>\n",
       "      <th>958</th>\n",
       "      <td>TEA; INSTANT;PREPRD;UNSWEETEND8 FL OZ</td>\n",
       "      <td>0.520669</td>\n",
       "      <td>-0.371136</td>\n",
       "      <td>-0.271369</td>\n",
       "      <td>-0.562043</td>\n",
       "    </tr>\n",
       "    <tr>\n",
       "      <th>959</th>\n",
       "      <td>LETTUCE; BUTTERHEAD; RAW;LEAVE1 LEAF</td>\n",
       "      <td>-0.764083</td>\n",
       "      <td>-0.371136</td>\n",
       "      <td>-0.271369</td>\n",
       "      <td>-0.562043</td>\n",
       "    </tr>\n",
       "    <tr>\n",
       "      <th>960</th>\n",
       "      <td>SALT                          1 TSP</td>\n",
       "      <td>-0.818088</td>\n",
       "      <td>-0.371136</td>\n",
       "      <td>-0.271369</td>\n",
       "      <td>-0.562043</td>\n",
       "    </tr>\n",
       "  </tbody>\n",
       "</table>\n",
       "<p>961 rows × 5 columns</p>\n",
       "</div>"
      ],
      "text/plain": [
       "                                  food item  weight_in_grams  saturated_fat  \\\n",
       "0    GELATIN; DRY                  1 ENVELP        -0.809561      -0.371136   \n",
       "1    SEAWEED; SPIRULINA; DRIED     1 OZ            -0.688192      -0.296678   \n",
       "2    YEAST; BAKERS; DRY; ACTIVE    1 PKG           -0.809561      -0.371136   \n",
       "3    PARMESAN CHEESE; GRATED       1 OZ            -0.688192       0.131453   \n",
       "4    PARMESAN CHEESE; GRATED       1 CUP           -0.280880       1.406541   \n",
       "..                                      ...              ...            ...   \n",
       "956  COFFEE; BREWED                6 FL OZ          0.173900      -0.371136   \n",
       "957  TEA; BREWED                   8 FL OZ          0.514985      -0.371136   \n",
       "958  TEA; INSTANT;PREPRD;UNSWEETEND8 FL OZ          0.520669      -0.371136   \n",
       "959  LETTUCE; BUTTERHEAD; RAW;LEAVE1 LEAF          -0.764083      -0.371136   \n",
       "960  SALT                          1 TSP           -0.818088      -0.371136   \n",
       "\n",
       "     cholesterol  saturated_fat_per_gram  \n",
       "0      -0.271369               -0.562043  \n",
       "1      -0.271369               -0.135330  \n",
       "2      -0.271369               -0.562043  \n",
       "3      -0.087975                2.318264  \n",
       "4       0.387181                2.326185  \n",
       "..           ...                     ...  \n",
       "956    -0.271369               -0.562043  \n",
       "957    -0.271369               -0.562043  \n",
       "958    -0.271369               -0.562043  \n",
       "959    -0.271369               -0.562043  \n",
       "960    -0.271369               -0.562043  \n",
       "\n",
       "[961 rows x 5 columns]"
      ]
     },
     "execution_count": 29,
     "metadata": {},
     "output_type": "execute_result"
    }
   ],
   "source": [
    "# Standardize (zero mean) the numeric variables\n",
    "df_x=df[['weight_in_grams', 'saturated_fat', 'cholesterol','saturated_fat_per_gram']]\n",
    "df[['weight_in_grams', 'saturated_fat', 'cholesterol','saturated_fat_per_gram']] = (df_x-df_x.mean())/df_x.std()\n",
    "df"
   ]
  },
  {
   "cell_type": "code",
   "execution_count": 30,
   "id": "subjective-logic",
   "metadata": {},
   "outputs": [
    {
     "data": {
      "image/png": "[encoded data removed]",
      "text/plain": [
       "<Figure size 432x288 with 1 Axes>"
      ]
     },
     "metadata": {
      "needs_background": "light"
     },
     "output_type": "display_data"
    }
   ],
   "source": [
    "# check outliers : we have many outliers in our dataset for all of numeric variables (see circles below)\n",
    "df.boxplot()\n",
    "plt.show()"
   ]
  },
  {
   "cell_type": "markdown",
   "id": "golden-engineering",
   "metadata": {},
   "source": [
    "# Q8. Summarize your findings"
   ]
  },
  {
   "cell_type": "markdown",
   "id": "coral-davis",
   "metadata": {},
   "source": [
    "**In this section, We learned how to add a column, and  we did the standardization for numeric variables, check if there are outliers or missing values as well**"
   ]
  }
 ],
 "metadata": {
  "kernelspec": {
   "display_name": "Python 3",
   "language": "python",
   "name": "python3"
  },
  "language_info": {
   "codemirror_mode": {
    "name": "ipython",
    "version": 3
   },
   "file_extension": ".py",
   "mimetype": "text/x-python",
   "name": "python",
   "nbconvert_exporter": "python",
   "pygments_lexer": "ipython3",
   "version": "3.8.8"
  }
 },
 "nbformat": 4,
 "nbformat_minor": 5
}
